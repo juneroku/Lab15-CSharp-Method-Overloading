{
 "cells": [
  {
   "cell_type": "markdown",
   "metadata": {},
   "source": [
    "# Lab 15 Exercise 5"
   ]
  },
  {
   "cell_type": "markdown",
   "metadata": {},
   "source": [
    "## Virtual member inheritance"
   ]
  },
  {
   "cell_type": "markdown",
   "metadata": {},
   "source": [
    "1.สร้าง console application project\n",
    "\n",
    "```cmd\n",
    "dotnet new console --name Lab15_Ex05\n",
    "```"
   ]
  },
  {
   "cell_type": "markdown",
   "metadata": {},
   "source": [
    "2.เปลี่ยน code ให้เป็นดังต่อไปนี้\n",
    "\n",
    "```csharp\n",
    "Derived_2 d2 = new Derived_2();\n",
    "Base b = (Base) d2;\n",
    "Derived_1 d1 = (Derived_1) d2;\n",
    "\n",
    "\n",
    "b.A();\n",
    "d1.A();\n",
    "d2.A();\n",
    "\n",
    "class Base\n",
    "{\n",
    "    public virtual void A()\n",
    "    {\n",
    "        System.Console.WriteLine(\"Base.A()\");\n",
    "    }\n",
    "}\n",
    "class Derived_1 : Base\n",
    "{\n",
    "    public override void A()\n",
    "    {\n",
    "        System.Console.WriteLine(\"Derived_1.A()\");\n",
    "    }\n",
    "}\n",
    "class Derived_2 : Derived_1\n",
    "{\n",
    "    public override void A()\n",
    "    {\n",
    "        System.Console.WriteLine(\"Derived_2.A()\");\n",
    "    }\n",
    "}\n",
    "```"
   ]
  },
  {
   "cell_type": "markdown",
   "metadata": {},
   "source": [
    "3.Build project โดยการใช้คำสั่ง\n",
    "\n",
    "```cmd\n",
    "dotnet build  Lab15_Ex05\n",
    "```\n",
    "\n",
    "ถ้ามีที่ผิดพลาดในโปรแกรม ให้แก้ไขให้ถูกต้อง"
   ]
  },
  {
   "cell_type": "markdown",
   "metadata": {},
   "source": [
    "4.บันทึกผลที่ได้จากการรันคำสั่งในข้อ 3"
   ]
  },
  {
   "attachments": {
    "image.png": {
     "image/png": "[encoded data removed]"
    }
   },
   "cell_type": "markdown",
   "metadata": {},
   "source": [
    "![image.png](attachment:image.png)"
   ]
  },
  {
   "cell_type": "markdown",
   "metadata": {},
   "source": [
    "5.Run project โดยการใช้คำสั่ง\n",
    "```cmd\n",
    "dotnet run --project Lab15_Ex05\n",
    "```\n",
    "\n"
   ]
  },
  {
   "cell_type": "markdown",
   "metadata": {},
   "source": [
    "6.บันทึกผลที่ได้จากการรันคำสั่งในข้อ 5"
   ]
  },
  {
   "cell_type": "markdown",
   "metadata": {},
   "source": [
    "dotnet run --project Lab15_Ex05\n"
   ]
  },
  {
   "cell_type": "markdown",
   "metadata": {},
   "source": [
    "7.อธิบายสิ่งที่พบในการทดลอง"
   ]
  },
  {
   "cell_type": "markdown",
   "metadata": {},
   "source": [
    "ทำการ แคสติ้ง (casting) ของอ็อบเจกต์จากคลาสลูกไปยังคลาสแม่และคลาสลูกอื่นๆ เพื่อทดสอบผลของการเรียกใช้เมธอด A() และการแสดงผลที่เกิดขึ้นจากการแคสติ้ง"
   ]
  }
 ],
 "metadata": {
  "kernelspec": {
   "display_name": ".NET (C#)",
   "language": "C#",
   "name": ".net-csharp"
  },
  "polyglot_notebook": {
   "kernelInfo": {
    "defaultKernelName": "csharp",
    "items": [
     {
      "aliases": [],
      "languageName": "csharp",
      "name": "csharp"
     }
    ]
   }
  }
 },
 "nbformat": 4,
 "nbformat_minor": 2
}
